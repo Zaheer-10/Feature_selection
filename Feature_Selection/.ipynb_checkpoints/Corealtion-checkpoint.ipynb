{
 "cells": [
  {
   "cell_type": "markdown",
   "id": "cfc4e5a8-f558-47b7-95fd-de8484a03f85",
   "metadata": {},
   "source": [
    "Feature selection with co-realtion"
   ]
  },
  {
   "cell_type": "code",
   "execution_count": null,
   "id": "c4ee282f-9cbb-45e4-b73b-eb5ef95a1014",
   "metadata": {},
   "outputs": [],
   "source": [
    "# from sklearn.datasets import load_wine\n",
    "# import pandas as pd\n",
    "# import matplotlib.pyplot as plt \n",
    "# %matplotlib inline"
   ]
  },
  {
   "cell_type": "code",
   "execution_count": null,
   "id": "86374d1c-8119-43e6-a67c-f9a4cccda468",
   "metadata": {},
   "outputs": [],
   "source": [
    "import pandas as pd\n"
   ]
  },
  {
   "cell_type": "code",
   "execution_count": null,
   "id": "2d4e23b6-4356-43d2-8c75-31bfd9687594",
   "metadata": {},
   "outputs": [],
   "source": [
    "# df=pd.read_csv(\"train.csv\",nrows=300)\n",
    "# df\n",
    "# df.shape\n",
    "# df.columns\n",
    "\n",
    "# x=df.drop(labels= ['TARGET'],axis=1)\n",
    "# y=df[ 'TARGET']\n",
    "# x.columns\n",
    "# y.shape\n",
    "# df.head(20)"
   ]
  },
  {
   "cell_type": "code",
   "execution_count": null,
   "id": "befd0aa5-0e7b-431a-b66b-9b5485770b33",
   "metadata": {},
   "outputs": [],
   "source": [
    "# x.head()\n"
   ]
  },
  {
   "cell_type": "code",
   "execution_count": null,
   "id": "0e8032f7-2eac-4520-85b7-4dad0613302a",
   "metadata": {},
   "outputs": [],
   "source": [
    "# from sklearn.model_selection import train_test_split\n",
    "# X_train,X_test,y_train,y_test = train_test_split(x,y,test_size=0.2,random_state=0)\n",
    "# X_train.shape,X_test.shape\n"
   ]
  },
  {
   "cell_type": "code",
   "execution_count": null,
   "id": "a708680e-7d4a-4e76-bd22-3b7862241794",
   "metadata": {},
   "outputs": [],
   "source": [
    "# #Using pearson correlation\n",
    "# import seaborn as sns\n",
    "# plt.figure(figsize=(12,10))\n",
    "# cor=X_train.corr()\n",
    "# sns.heatmap(cor,annot=True,cmap=plt.cm.CMRmap_r)\n",
    "# plt.show()"
   ]
  }
 ],
 "metadata": {
  "kernelspec": {
   "display_name": "Python 3 (ipykernel)",
   "language": "python",
   "name": "python3"
  },
  "language_info": {
   "codemirror_mode": {
    "name": "ipython",
    "version": 3
   },
   "file_extension": ".py",
   "mimetype": "text/x-python",
   "name": "python",
   "nbconvert_exporter": "python",
   "pygments_lexer": "ipython3",
   "version": "3.10.9"
  }
 },
 "nbformat": 4,
 "nbformat_minor": 5
}
