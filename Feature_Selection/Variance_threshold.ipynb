{
 "cells": [
  {
   "cell_type": "markdown",
   "id": "d4751129-93fe-482e-ade6-014e57f85372",
   "metadata": {},
   "source": [
    "Removing features with low variance"
   ]
  },
  {
   "cell_type": "code",
   "execution_count": 7,
   "id": "cb7582c7-5c70-4016-9d78-75a9babd6ce7",
   "metadata": {},
   "outputs": [],
   "source": [
    "import pandas as pd\n",
    "import numpy as np"
   ]
  },
  {
   "cell_type": "markdown",
   "id": "40cf14d6-b906-48e4-ae48-03d9edfd7494",
   "metadata": {},
   "source": [
    "Dropping constant feature"
   ]
  },
  {
   "cell_type": "code",
   "execution_count": 27,
   "id": "e8bf5432-5905-4dcd-9a40-096dcded3036",
   "metadata": {},
   "outputs": [
    {
     "data": {
      "text/html": [
       "<div>\n",
       "<style scoped>\n",
       "    .dataframe tbody tr th:only-of-type {\n",
       "        vertical-align: middle;\n",
       "    }\n",
       "\n",
       "    .dataframe tbody tr th {\n",
       "        vertical-align: top;\n",
       "    }\n",
       "\n",
       "    .dataframe thead th {\n",
       "        text-align: right;\n",
       "    }\n",
       "</style>\n",
       "<table border=\"1\" class=\"dataframe\">\n",
       "  <thead>\n",
       "    <tr style=\"text-align: right;\">\n",
       "      <th></th>\n",
       "      <th>First</th>\n",
       "      <th>Second</th>\n",
       "      <th>Third</th>\n",
       "      <th>Fourth</th>\n",
       "      <th>Five</th>\n",
       "    </tr>\n",
       "  </thead>\n",
       "  <tbody>\n",
       "    <tr>\n",
       "      <th>0</th>\n",
       "      <td>1</td>\n",
       "      <td>6</td>\n",
       "      <td>1</td>\n",
       "      <td>0</td>\n",
       "      <td>5</td>\n",
       "    </tr>\n",
       "    <tr>\n",
       "      <th>1</th>\n",
       "      <td>2</td>\n",
       "      <td>32</td>\n",
       "      <td>1</td>\n",
       "      <td>0</td>\n",
       "      <td>5</td>\n",
       "    </tr>\n",
       "    <tr>\n",
       "      <th>2</th>\n",
       "      <td>3</td>\n",
       "      <td>65</td>\n",
       "      <td>1</td>\n",
       "      <td>0</td>\n",
       "      <td>5</td>\n",
       "    </tr>\n",
       "    <tr>\n",
       "      <th>3</th>\n",
       "      <td>4</td>\n",
       "      <td>2</td>\n",
       "      <td>1</td>\n",
       "      <td>0</td>\n",
       "      <td>5</td>\n",
       "    </tr>\n",
       "    <tr>\n",
       "      <th>4</th>\n",
       "      <td>5</td>\n",
       "      <td>4</td>\n",
       "      <td>1</td>\n",
       "      <td>0</td>\n",
       "      <td>5</td>\n",
       "    </tr>\n",
       "  </tbody>\n",
       "</table>\n",
       "</div>"
      ],
      "text/plain": [
       "   First  Second  Third  Fourth  Five\n",
       "0      1       6      1       0     5\n",
       "1      2      32      1       0     5\n",
       "2      3      65      1       0     5\n",
       "3      4       2      1       0     5\n",
       "4      5       4      1       0     5"
      ]
     },
     "execution_count": 27,
     "metadata": {},
     "output_type": "execute_result"
    }
   ],
   "source": [
    "A={\n",
    "    \"First\" : [1,2,3,4,5],\n",
    "    'Second' : [6,32,65,2,4],\n",
    "    \"Third\" :[1,1,1,1,1],\n",
    "    \"Fourth\" : [0,0,0,0,0],\n",
    "    \"Five\":[5,5,5,5,5]\n",
    "}\n",
    "df=pd.DataFrame(A)\n",
    "df"
   ]
  },
  {
   "cell_type": "markdown",
   "id": "1ba629c6-f905-4a1e-87f4-524e5c72652d",
   "metadata": {},
   "source": [
    "Here We use Variance Threshold class from sklearn\n",
    "\n",
    "It basically means : Feature selector that removes all low-variance features.\n",
    "\n",
    "syntax: sklearn.feature_selection.VarianceThreshold(threshold=0.0)\n",
    "\n",
    "This feature selection algorithm looks only at the features (X), not the desired outputs (y)\n"
   ]
  },
  {
   "cell_type": "code",
   "execution_count": 28,
   "id": "e68d5f19-b1f5-464e-b59d-02320afce961",
   "metadata": {},
   "outputs": [
    {
     "data": {
      "text/plain": [
       "array([ True,  True, False, False, False])"
      ]
     },
     "execution_count": 28,
     "metadata": {},
     "output_type": "execute_result"
    }
   ],
   "source": [
    "from sklearn.feature_selection import VarianceThreshold\n",
    "\n",
    "vt=VarianceThreshold()\n",
    "\n",
    "vt.fit(df)\n",
    "VarianceThreshold(threshold=0)\n",
    "\n",
    "vt.get_support()\n",
    "\n"
   ]
  },
  {
   "cell_type": "code",
   "execution_count": 30,
   "id": "010c26c0-1bd9-4123-849e-4c762e6ff061",
   "metadata": {},
   "outputs": [
    {
     "name": "stdout",
     "output_type": "stream",
     "text": [
      "3\n"
     ]
    }
   ],
   "source": [
    "same_col= [ col for col in df.columns if col not in df.columns[vt.get_support()]]\n",
    "print(len(same_col))\n",
    "#found the total constant values\n"
   ]
  },
  {
   "cell_type": "code",
   "execution_count": 40,
   "id": "efa50159-21b5-454d-bebe-3a6eef4c5b54",
   "metadata": {},
   "outputs": [
    {
     "data": {
      "text/html": [
       "<div>\n",
       "<style scoped>\n",
       "    .dataframe tbody tr th:only-of-type {\n",
       "        vertical-align: middle;\n",
       "    }\n",
       "\n",
       "    .dataframe tbody tr th {\n",
       "        vertical-align: top;\n",
       "    }\n",
       "\n",
       "    .dataframe thead th {\n",
       "        text-align: right;\n",
       "    }\n",
       "</style>\n",
       "<table border=\"1\" class=\"dataframe\">\n",
       "  <thead>\n",
       "    <tr style=\"text-align: right;\">\n",
       "      <th></th>\n",
       "      <th>First</th>\n",
       "      <th>Second</th>\n",
       "    </tr>\n",
       "  </thead>\n",
       "  <tbody>\n",
       "    <tr>\n",
       "      <th>0</th>\n",
       "      <td>1</td>\n",
       "      <td>6</td>\n",
       "    </tr>\n",
       "    <tr>\n",
       "      <th>1</th>\n",
       "      <td>2</td>\n",
       "      <td>32</td>\n",
       "    </tr>\n",
       "    <tr>\n",
       "      <th>2</th>\n",
       "      <td>3</td>\n",
       "      <td>65</td>\n",
       "    </tr>\n",
       "    <tr>\n",
       "      <th>3</th>\n",
       "      <td>4</td>\n",
       "      <td>2</td>\n",
       "    </tr>\n",
       "    <tr>\n",
       "      <th>4</th>\n",
       "      <td>5</td>\n",
       "      <td>4</td>\n",
       "    </tr>\n",
       "  </tbody>\n",
       "</table>\n",
       "</div>"
      ],
      "text/plain": [
       "   First  Second\n",
       "0      1       6\n",
       "1      2      32\n",
       "2      3      65\n",
       "3      4       2\n",
       "4      5       4"
      ]
     },
     "execution_count": 40,
     "metadata": {},
     "output_type": "execute_result"
    }
   ],
   "source": [
    "#and finally we drop col\n",
    "\n",
    "df.drop(same_col,axis=1,inplace=True)\n",
    "df"
   ]
  },
  {
   "cell_type": "code",
   "execution_count": 55,
   "id": "8386838d-db93-49f0-8fda-a41c24ad5a9a",
   "metadata": {},
   "outputs": [
    {
     "name": "stdout",
     "output_type": "stream",
     "text": [
      "       ID  TARGET\n",
      "0       2       0\n",
      "1       5       0\n",
      "2       6       0\n",
      "3       7       0\n",
      "4       9       0\n",
      "..    ...     ...\n",
      "995  2015       0\n",
      "996  2018       0\n",
      "997  2019       0\n",
      "998  2023       0\n",
      "999  2024       0\n",
      "\n",
      "[1000 rows x 2 columns]\n"
     ]
    },
    {
     "data": {
      "text/html": [
       "<div>\n",
       "<style scoped>\n",
       "    .dataframe tbody tr th:only-of-type {\n",
       "        vertical-align: middle;\n",
       "    }\n",
       "\n",
       "    .dataframe tbody tr th {\n",
       "        vertical-align: top;\n",
       "    }\n",
       "\n",
       "    .dataframe thead th {\n",
       "        text-align: right;\n",
       "    }\n",
       "</style>\n",
       "<table border=\"1\" class=\"dataframe\">\n",
       "  <thead>\n",
       "    <tr style=\"text-align: right;\">\n",
       "      <th></th>\n",
       "      <th>ID</th>\n",
       "    </tr>\n",
       "  </thead>\n",
       "  <tbody>\n",
       "    <tr>\n",
       "      <th>0</th>\n",
       "      <td>2</td>\n",
       "    </tr>\n",
       "    <tr>\n",
       "      <th>1</th>\n",
       "      <td>5</td>\n",
       "    </tr>\n",
       "    <tr>\n",
       "      <th>2</th>\n",
       "      <td>6</td>\n",
       "    </tr>\n",
       "    <tr>\n",
       "      <th>3</th>\n",
       "      <td>7</td>\n",
       "    </tr>\n",
       "    <tr>\n",
       "      <th>4</th>\n",
       "      <td>9</td>\n",
       "    </tr>\n",
       "  </tbody>\n",
       "</table>\n",
       "</div>"
      ],
      "text/plain": [
       "   ID\n",
       "0   2\n",
       "1   5\n",
       "2   6\n",
       "3   7\n",
       "4   9"
      ]
     },
     "execution_count": 55,
     "metadata": {},
     "output_type": "execute_result"
    }
   ],
   "source": [
    "Df=pd.read_csv('sample_submission.csv',nrows=1000)\n",
    "print(Df)\n",
    "\n",
    "Vt=VarianceThreshold()\n",
    "Vt.fit(Df)\n",
    "Vt.get_support()\n",
    "dup_c=[d for d in Df.columns if d not in Df.columns[Vt.get_support()]]\n",
    "dup_c\n",
    "Df.drop(dup_c,axis=1,inplace=True)\n",
    "Df.head(5)\n"
   ]
  },
  {
   "cell_type": "code",
   "execution_count": 83,
   "id": "ebeae85d-2183-4537-b833-beb4a7c66f17",
   "metadata": {},
   "outputs": [
    {
     "name": "stdout",
     "output_type": "stream",
     "text": [
      "(199, 371)\n"
     ]
    },
    {
     "data": {
      "text/plain": [
       "(199, 199)"
      ]
     },
     "execution_count": 83,
     "metadata": {},
     "output_type": "execute_result"
    }
   ],
   "source": [
    "from sklearn.feature_selection import VarianceThreshold\n",
    "df1=pd.read_csv('train.csv',nrows=199)\n",
    "print(df1.shape)\n",
    "var_thres=VarianceThreshold()\n",
    "var_thres.fit(df1)\n",
    "\n",
    "dp=[c for c in df1.columns if c not in df1.columns [var_thres.get_support()]]\n",
    "df1.drop(dp,axis=1,inplace=True)\n",
    "df1\n",
    "df1.shape"
   ]
  },
  {
   "cell_type": "code",
   "execution_count": 88,
   "id": "b5eca2f4-08cc-4142-9f9b-c1582f232935",
   "metadata": {},
   "outputs": [],
   "source": [
    "data=df1=pd.read_csv('train.csv',nrows=1000)\n",
    "data.columns\n",
    "x=data.drop(labels=['TARGET'], axis=1)\n",
    "y=data['TARGET']"
   ]
  },
  {
   "cell_type": "code",
   "execution_count": 98,
   "id": "6e6d1d6b-8cb9-4499-a7df-e81f798b2bb7",
   "metadata": {},
   "outputs": [
    {
     "data": {
      "text/plain": [
       "((800, 370), (200, 370))"
      ]
     },
     "execution_count": 98,
     "metadata": {},
     "output_type": "execute_result"
    }
   ],
   "source": [
    "from sklearn.model_selection import train_test_split\n",
    "X_train,X_test,y_train,y_test = train_test_split(x,y , test_size=0.2, random_state=0)\n",
    "X_train.shape, X_test.shape\n",
    "#spliited \n"
   ]
  },
  {
   "cell_type": "code",
   "execution_count": 118,
   "id": "4e6bef63-d87f-454a-8cfc-6f2626d300a6",
   "metadata": {},
   "outputs": [
    {
     "data": {
      "text/plain": [
       "(800, 233)"
      ]
     },
     "execution_count": 118,
     "metadata": {},
     "output_type": "execute_result"
    }
   ],
   "source": [
    "#apply variance threshold\n",
    "VT=VarianceThreshold(threshold=0.0)\n",
    "VT.fit(X_train)\n",
    "sum(VT.get_support())\n",
    "X_train.columns.value_counts().sum()\n",
    "\n",
    "dupp=[a for a in X_train.columns if a not in X_train.columns[VT.get_support()]]\n",
    "dupp\n",
    "X_train.drop(dupp,axis=1,inplace=True)\n",
    "X_train.shape"
   ]
  }
 ],
 "metadata": {
  "kernelspec": {
   "display_name": "Python 3 (ipykernel)",
   "language": "python",
   "name": "python3"
  },
  "language_info": {
   "codemirror_mode": {
    "name": "ipython",
    "version": 3
   },
   "file_extension": ".py",
   "mimetype": "text/x-python",
   "name": "python",
   "nbconvert_exporter": "python",
   "pygments_lexer": "ipython3",
   "version": "3.10.9"
  }
 },
 "nbformat": 4,
 "nbformat_minor": 5
}
